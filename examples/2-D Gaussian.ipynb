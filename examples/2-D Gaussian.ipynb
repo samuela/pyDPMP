{
 "cells": [
  {
   "cell_type": "code",
   "execution_count": 11,
   "metadata": {
    "collapsed": false
   },
   "outputs": [],
   "source": [
    "%matplotlib inline\n",
    "\n",
    "import numpy as np\n",
    "import matplotlib.pyplot as plt\n",
    "from scipy.stats import multivariate_normal\n",
    "import time\n",
    "from IPython import display \n",
    "\n",
    "from pyDPMP.messagepassing import MaxSumMP\n",
    "from pyDPMP.mrf import Factor, MRF\n",
    "from pyDPMP.particleselection import SelectDiverse\n",
    "from pyDPMP.proposals import random_walk_proposal_1d\n",
    "from pyDPMP.util import set_seed\n",
    "from pyDPMP import DPMP_infer"
   ]
  },
  {
   "cell_type": "markdown",
   "metadata": {},
   "source": [
    "In this example, we'll run D-PMP on a 2-D Gaussian. While we would generally not represent a 2-D Gaussian as a pairwise MRF, it provides a nice way to get up to speed with the D-PMP. Consider,\n",
    "\n",
    "$$ \\begin{bmatrix} x_1 \\\\ x_2 \\end{bmatrix} \\sim \\mathcal{N}(\\mu, \\Sigma).$$\n",
    "\n",
    "Here, we'll set\n",
    "\n",
    "$$\n",
    "\\begin{align}\n",
    "\\mu &= \\mathbf{0} \\\\\n",
    "\\Sigma &= \\begin{bmatrix} 1 & 0 \\\\ 1 & 3 \\end{bmatrix}\n",
    "\\end{align}\n",
    "$$"
   ]
  },
  {
   "cell_type": "code",
   "execution_count": 12,
   "metadata": {
    "collapsed": true
   },
   "outputs": [],
   "source": [
    "# The mean vector and covariance matrix\n",
    "mu = np.array([0.0, 0.0])\n",
    "cov = np.array([[1, 0], [1, 3]])"
   ]
  },
  {
   "cell_type": "code",
   "execution_count": 13,
   "metadata": {
    "collapsed": false
   },
   "outputs": [
    {
     "data": {
      "text/plain": [
       "<matplotlib.contour.QuadContourSet at 0x112b90150>"
      ]
     },
     "execution_count": 13,
     "metadata": {},
     "output_type": "execute_result"
    },
    {
     "data": {
      "image/png": "[encoded data removed]",
      "text/plain": [
       "<matplotlib.figure.Figure at 0x10f180c10>"
      ]
     },
     "metadata": {},
     "output_type": "display_data"
    }
   ],
   "source": [
    "dist = multivariate_normal(mean=mu, cov=cov)\n",
    "\n",
    "x = np.arange(-5, 5, 0.01)\n",
    "y = np.arange(-5, 5, 0.01)\n",
    "x_mesh, y_mesh = np.meshgrid(x, y)\n",
    "mesh = np.concatenate([x_mesh[..., np.newaxis], y_mesh[..., np.newaxis]], axis=2)\n",
    "\n",
    "plt.contour(x_mesh, y_mesh, dist.pdf(mesh))"
   ]
  },
  {
   "cell_type": "markdown",
   "metadata": {},
   "source": [
    "We can cast the distribution over $x_1$ and $x_2$ as an MRF with one node for each variable and a single pairwise potential between the two. In this case, we see that\n",
    "\n",
    "$$\n",
    "\\begin{align}\n",
    "\\log p(x_1,x_2) + C &= -\\frac{1}{2} (\\mathbf{x} - \\mu)^T \\Sigma^{-1} (\\mathbf{x} - \\mu) \\\\\n",
    "    &= -\\frac{1}{2} \\begin{bmatrix} x_1 - \\mu_1 & x_2 - \\mu_2 \\end{bmatrix} \\begin{bmatrix} p_{11} & p_{12} \\\\ p_{21} & p_{22} \\end{bmatrix} \\begin{bmatrix} x_1 - \\mu_1 \\\\ x_2 - \\mu_2 \\end{bmatrix} \\\\\n",
    "    &= -\\frac{1}{2} \\left( p_{11} (x_1 - \\mu_1)^2 + (p_{12} + p_{21})(x_1 - \\mu_1)(x_2 - \\mu_2) + p_{22} (x_2 - \\mu_2)^2 \\right)\n",
    "\\end{align}\n",
    "$$\n",
    "\n",
    "where\n",
    "\n",
    "$$P = \\Sigma^{-1} = \\begin{bmatrix} p_{11} & p_{12} \\\\ p_{21} & p_{22} \\end{bmatrix}$$\n",
    "\n",
    "is the precision matrix. So, our log potentials are\n",
    "\n",
    "$$\n",
    "\\begin{align}\n",
    "\\psi_1(x_1) &= -\\frac{1}{2} p_{11} (x_1 - \\mu_1)^2 \\\\\n",
    "\\psi_2(x_2) &= -\\frac{1}{2} p_{22} (x_2 - \\mu_2)^2 \\\\\n",
    "\\psi_{12}(x_1, x_2) &= -\\frac{1}{2} (p_{12} + p_{21})(x_1 - \\mu_1)(x_2 - \\mu_2)\n",
    "\\end{align}\n",
    "$$\n",
    "\n",
    "We can construct such an MRF as follows."
   ]
  },
  {
   "cell_type": "code",
   "execution_count": 14,
   "metadata": {
    "collapsed": false
   },
   "outputs": [],
   "source": [
    "P = np.linalg.inv(cov)\n",
    "\n",
    "mrf = MRF([0, 1], {\n",
    "        'u0': Factor([0], lambda x0: -0.5 * P[0, 0] * (x0 - mu[0]) ** 2),\n",
    "        'u1': Factor([1], lambda x1: -0.5 * P[1, 1] * (x1 - mu[1]) ** 2),\n",
    "        'pw': Factor([0, 1], lambda x0, x1: -0.5 * (x0 - mu[0]) * (x1 - mu[1]) * (P[0,1] + P[1,0]))\n",
    "    })"
   ]
  },
  {
   "cell_type": "markdown",
   "metadata": {},
   "source": [
    "The D-PMP algorithm requires 5 elements:\n",
    "\n",
    "* a pairwise, continuous MRF\n",
    "* a particle proposal\n",
    "* an initial set of particles\n",
    "* a discrete max-product algorithm (Max-Sum, Tree-reweighted belief propogation, etc.)\n",
    "* a particle selection algorithm (either the diversity objective from the ICML 2014 paper or the LazyGreedy objective from the ICML 2015 paper)\n",
    "\n",
    "Well, having the MRF is a bit of a given. For the discrete max-product algorithm, we can just use Max-Sum for tree-structured MRFs and TRWBP for loopy models. And in our experience, the particle selection objective does not have a large impact on performance.\n",
    "\n",
    "This leaves us with two problem-specific parameters: the proposal and the initial particle set. In this example, we'll use a 1-D random walk proposal with standard deviation 1. This means that at every iteration we'll perturb the current particles at each node with Gaussian noise. It's a fairly naïve proposal but it'll get the job done here."
   ]
  },
  {
   "cell_type": "code",
   "execution_count": 15,
   "metadata": {
    "collapsed": false
   },
   "outputs": [],
   "source": [
    "proposal = random_walk_proposal_1d(1)"
   ]
  },
  {
   "cell_type": "markdown",
   "metadata": {},
   "source": [
    "For the initial particle set, we'll put one particle at 1.0 for both $x_1$ and $x_2$."
   ]
  },
  {
   "cell_type": "code",
   "execution_count": 16,
   "metadata": {
    "collapsed": true
   },
   "outputs": [],
   "source": [
    "x0 = {0: [1.0], 1: [1.0]}"
   ]
  },
  {
   "cell_type": "markdown",
   "metadata": {},
   "source": [
    "We'll the number of particles at each node to be 2."
   ]
  },
  {
   "cell_type": "code",
   "execution_count": 17,
   "metadata": {
    "collapsed": true
   },
   "outputs": [],
   "source": [
    "nParticles = 2"
   ]
  },
  {
   "cell_type": "markdown",
   "metadata": {},
   "source": [
    "Now, we're ready to run D-PMP! We've left most of the settings to their defaults with some exceptions:\n",
    "\n",
    "* `conv_tol` is set to None to disable convergence checking.\n",
    "* `max_iters` is set to 10.\n",
    "* We've added a nice callback that plots the particles at each iteration, with the MAP estimate in red. We've also added a 0.5 second delay so that you can see the animation play smoothly. Callbacks are a great way to see what's going on inside D-PMP's brain.\n",
    "\n",
    "It's worth noting that one important option we did not set here is the number of augmented particles, `nAugmented`. At each iteration, D-PMP will propose as many particles as necessary in order to reach `nAugmented` particles at each node before performing particle selection. By default, `nAugmented` will be twice `nParticles`."
   ]
  },
  {
   "cell_type": "code",
   "execution_count": 18,
   "metadata": {
    "collapsed": false
   },
   "outputs": [
    {
     "data": {
      "image/png": "[encoded data removed]",
      "text/plain": [
       "<matplotlib.figure.Figure at 0x11047a850>"
      ]
     },
     "metadata": {},
     "output_type": "display_data"
    }
   ],
   "source": [
    "set_seed(0)\n",
    "\n",
    "def callback(info):\n",
    "    x = info['x']\n",
    "    xMAP = info['xMAP']\n",
    "    \n",
    "    plt.clf()\n",
    "    plt.contour(x_mesh, y_mesh, dist.pdf(mesh))\n",
    "    plt.vlines(x[0], -5, 5)\n",
    "    plt.hlines(x[1], -5, 5)\n",
    "    plt.vlines(xMAP[0], -5, 5, 'r')\n",
    "    plt.hlines(xMAP[1], -5, 5, 'r')\n",
    "    \n",
    "    plt.xlabel('x_1')\n",
    "    plt.ylabel('x_2')\n",
    "    plt.title('Iter. %d' % info['iter'])\n",
    "    \n",
    "    display.clear_output(wait=True)\n",
    "    display.display(plt.gcf())\n",
    "    time.sleep(0.5)\n",
    "\n",
    "xMAP, xParticles, stats = DPMP_infer(mrf,\n",
    "                                     x0,\n",
    "                                     nParticles,\n",
    "                                     proposal,\n",
    "                                     SelectDiverse(),\n",
    "                                     MaxSumMP(mrf),\n",
    "                                     conv_tol=None,\n",
    "                                     max_iters=10,\n",
    "                                     callback=callback)\n",
    "\n",
    "display.clear_output(wait=True)"
   ]
  },
  {
   "cell_type": "markdown",
   "metadata": {},
   "source": [
    "Finally, we check that our estimate of the MAP is accurate:"
   ]
  },
  {
   "cell_type": "code",
   "execution_count": 19,
   "metadata": {
    "collapsed": false
   },
   "outputs": [
    {
     "data": {
      "text/plain": [
       "{0: -0.05292197516849475, 1: -0.030930369910096456}"
      ]
     },
     "execution_count": 19,
     "metadata": {},
     "output_type": "execute_result"
    }
   ],
   "source": [
    "xMAP"
   ]
  },
  {
   "cell_type": "code",
   "execution_count": null,
   "metadata": {
    "collapsed": true
   },
   "outputs": [],
   "source": []
  }
 ],
 "metadata": {
  "kernelspec": {
   "display_name": "Python 2",
   "language": "python",
   "name": "python2"
  },
  "language_info": {
   "codemirror_mode": {
    "name": "ipython",
    "version": 2
   },
   "file_extension": ".py",
   "mimetype": "text/x-python",
   "name": "python",
   "nbconvert_exporter": "python",
   "pygments_lexer": "ipython2",
   "version": "2.7.10"
  }
 },
 "nbformat": 4,
 "nbformat_minor": 0
}
